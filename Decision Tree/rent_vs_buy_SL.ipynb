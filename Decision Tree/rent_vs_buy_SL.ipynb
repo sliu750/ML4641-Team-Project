{
  "cells": [
    {
      "cell_type": "markdown",
      "metadata": {
        "id": "Yz5RGg2AGlCk"
      },
      "source": [
        "**INSTALLS**"
      ]
    },
    {
      "cell_type": "code",
      "execution_count": null,
      "metadata": {
        "colab": {
          "base_uri": "https://localhost:8080/"
        },
        "id": "omBzX6hZGtuW",
        "outputId": "a5734e92-7f1a-4497-cab2-f6ce4230597a"
      },
      "outputs": [
        {
          "output_type": "stream",
          "name": "stdout",
          "text": [
            "Mounted at /content/drive\n"
          ]
        }
      ],
      "source": [
        "from google.colab import drive\n",
        "drive.mount('/content/drive')"
      ]
    },
    {
      "cell_type": "code",
      "execution_count": null,
      "metadata": {
        "colab": {
          "base_uri": "https://localhost:8080/"
        },
        "id": "SkVi4Ucce090",
        "outputId": "a37c3553-cea1-4312-c2e6-1a0187bed51a"
      },
      "outputs": [
        {
          "output_type": "stream",
          "name": "stdout",
          "text": [
            "/content/drive/MyDrive/ML4641_Team1\n"
          ]
        }
      ],
      "source": [
        "%cd /content/drive/MyDrive/ML4641_Team1/"
      ]
    },
    {
      "cell_type": "code",
      "execution_count": null,
      "metadata": {
        "id": "RsQIcIiHGlCo",
        "colab": {
          "base_uri": "https://localhost:8080/"
        },
        "outputId": "fcc70881-344f-4597-eeeb-4c11d95aa9cc"
      },
      "outputs": [
        {
          "output_type": "stream",
          "name": "stdout",
          "text": [
            "\u001b[2K     \u001b[90m━━━━━━━━━━━━━━━━━━━━━━━━━━━━━━━━━━━━━━━━\u001b[0m \u001b[32m15.5/15.5 MB\u001b[0m \u001b[31m25.4 MB/s\u001b[0m eta \u001b[36m0:00:00\u001b[0m\n",
            "\u001b[2K     \u001b[90m━━━━━━━━━━━━━━━━━━━━━━━━━━━━━━━━━━━━━━━━\u001b[0m \u001b[32m589.8/589.8 MB\u001b[0m \u001b[31m1.1 MB/s\u001b[0m eta \u001b[36m0:00:00\u001b[0m\n",
            "\u001b[2K     \u001b[90m━━━━━━━━━━━━━━━━━━━━━━━━━━━━━━━━━━━━━━━━\u001b[0m \u001b[32m1.7/1.7 MB\u001b[0m \u001b[31m32.8 MB/s\u001b[0m eta \u001b[36m0:00:00\u001b[0m\n",
            "\u001b[2K     \u001b[90m━━━━━━━━━━━━━━━━━━━━━━━━━━━━━━━━━━━━━━━━\u001b[0m \u001b[32m4.8/4.8 MB\u001b[0m \u001b[31m34.1 MB/s\u001b[0m eta \u001b[36m0:00:00\u001b[0m\n",
            "\u001b[2K     \u001b[90m━━━━━━━━━━━━━━━━━━━━━━━━━━━━━━━━━━━━━━━━\u001b[0m \u001b[32m2.2/2.2 MB\u001b[0m \u001b[31m34.3 MB/s\u001b[0m eta \u001b[36m0:00:00\u001b[0m\n",
            "\u001b[2K     \u001b[90m━━━━━━━━━━━━━━━━━━━━━━━━━━━━━━━━━━━━━━━━\u001b[0m \u001b[32m5.5/5.5 MB\u001b[0m \u001b[31m35.9 MB/s\u001b[0m eta \u001b[36m0:00:00\u001b[0m\n",
            "\u001b[2K     \u001b[90m━━━━━━━━━━━━━━━━━━━━━━━━━━━━━━━━━━━━━━━━\u001b[0m \u001b[32m1.1/1.1 MB\u001b[0m \u001b[31m36.7 MB/s\u001b[0m eta \u001b[36m0:00:00\u001b[0m\n",
            "\u001b[2K     \u001b[90m━━━━━━━━━━━━━━━━━━━━━━━━━━━━━━━━━━━━━━━━\u001b[0m \u001b[32m311.2/311.2 kB\u001b[0m \u001b[31m28.2 MB/s\u001b[0m eta \u001b[36m0:00:00\u001b[0m\n",
            "\u001b[2K     \u001b[90m━━━━━━━━━━━━━━━━━━━━━━━━━━━━━━━━━━━━━━━━\u001b[0m \u001b[32m91.8/91.8 kB\u001b[0m \u001b[31m808.6 kB/s\u001b[0m eta \u001b[36m0:00:00\u001b[0m\n",
            "\u001b[?25h"
          ]
        }
      ],
      "source": [
        "!pip install -q -U tensorflow_decision_forests\n",
        "!pip install -q -U dtreeviz"
      ]
    },
    {
      "cell_type": "code",
      "execution_count": null,
      "metadata": {
        "id": "xt6En0j_GlCq"
      },
      "outputs": [],
      "source": [
        "import numpy as np\n",
        "import pandas as pd\n",
        "import tensorflow_decision_forests as tfdf\n",
        "import tensorflow as tf\n",
        "from sklearn.preprocessing import OneHotEncoder\n",
        "from sklearn.metrics import confusion_matrix, accuracy_score, precision_score, recall_score, f1_score, classification_report\n",
        "from sklearn.model_selection import train_test_split\n",
        "from sklearn.tree import DecisionTreeClassifier\n",
        "from sklearn.feature_selection import VarianceThreshold\n",
        "from sklearn.pipeline import make_pipeline\n",
        "from sklearn.preprocessing import PolynomialFeatures\n",
        "from dtreeviz.utils import extract_params_from_pipeline\n",
        "from sklearn import tree\n",
        "import seaborn as sns\n",
        "import matplotlib.pyplot as plt\n",
        "from scipy import stats\n",
        "from sklearn.tree import export_graphviz\n",
        "import graphviz\n",
        "import dtreeviz\n",
        "from dtreeviz.trees import *\n",
        "from IPython.display import Image, display_svg, SVG\n",
        "\n",
        "# avoid \"Arial font not found\" warnings\n",
        "import logging\n",
        "logging.getLogger('matplotlib.font_manager').setLevel(level=logging.CRITICAL)"
      ]
    },
    {
      "cell_type": "markdown",
      "metadata": {
        "id": "bcr3osYrGlCr"
      },
      "source": [
        "**HELPER FUNCTIONS**"
      ]
    },
    {
      "cell_type": "markdown",
      "metadata": {
        "id": "Fd8wgKDTGlCr"
      },
      "source": [
        "Function 1: Cleans Data based off of Z-score [working]"
      ]
    },
    {
      "cell_type": "code",
      "execution_count": null,
      "metadata": {
        "id": "G61r-3P_GlCs"
      },
      "outputs": [],
      "source": [
        "# This functions removes all rows from the DataFrame df whose feature value has z-score above 3 or below -3\n",
        "def remove_outliers_Z_score(df: pd.DataFrame, feature: str):\n",
        "    z_scores = np.abs(stats.zscore(df[feature]))\n",
        "    too_high_indices =  np.where(z_scores > 3)[0]\n",
        "    too_low_indices = np.where(z_scores < -3)[0]\n",
        "    df.drop(index = too_high_indices, inplace = True)\n",
        "    df.drop(index = too_low_indices, inplace = True)"
      ]
    },
    {
      "cell_type": "markdown",
      "metadata": {
        "id": "qDoABTZ2GlCs"
      },
      "source": [
        "Function 2: Cleans Data based off of IQR [not working]"
      ]
    },
    {
      "cell_type": "code",
      "execution_count": null,
      "metadata": {
        "id": "UL24906PGlCt"
      },
      "outputs": [],
      "source": [
        "# This function removes all rows from the DataFrame df whose feature value is above Q3 + 1.5 * IQR or below Q1 - 1.5 * IQR\n",
        "# UPDATE: This is giving me issues. Probably better to use Z-score to remove outliers for this dataset\n",
        "def remove_outliers_IQR(df: pd.DataFrame, feature: str):\n",
        "    Q1 = np.percentile(df[feature], 25, method = 'midpoint')\n",
        "    Q3 = np.percentile(df[feature], 75, method = 'midpoint')\n",
        "    IQR = Q3 - Q1\n",
        "    too_high_indices = np.where(df[feature] >= Q3 + 1.5 * IQR)[0]\n",
        "    too_low_indices = np.where(df[feature] <= Q1 - 1.5 * IQR)[0]\n",
        "    df.drop(index = too_high_indices, inplace = True)\n",
        "    df.drop(index = too_low_indices, inplace = True)"
      ]
    },
    {
      "cell_type": "markdown",
      "metadata": {
        "id": "hw8Q1K0cMSe9"
      },
      "source": [
        "Function 3: Splits pandas DataFrame into training set and testing set"
      ]
    },
    {
      "cell_type": "code",
      "execution_count": null,
      "metadata": {
        "id": "m81fsEWuL8-d"
      },
      "outputs": [],
      "source": [
        "# This function splits a pandas DataFrame into a training set and a test set, specificed by the train_ratio.\n",
        "def split_dataset(df: pd.DataFrame, train_ratio: float):\n",
        "  train_indices = np.random.rand(len(df)) < train_ratio\n",
        "  return df[train_indices], df[~train_indices]"
      ]
    },
    {
      "cell_type": "markdown",
      "metadata": {
        "id": "4GXG3wziGlCt"
      },
      "source": [
        "**LOAD DATA**"
      ]
    },
    {
      "cell_type": "code",
      "execution_count": null,
      "metadata": {
        "colab": {
          "base_uri": "https://localhost:8080/"
        },
        "id": "Sq8NZBNGfe3I",
        "outputId": "1ddf2af2-48aa-4f36-f8a4-37d5ad09519e"
      },
      "outputs": [
        {
          "output_type": "stream",
          "name": "stderr",
          "text": [
            "<ipython-input-8-1f0023293ca2>:1: DtypeWarning: Columns (6,9) have mixed types. Specify dtype option on import or set low_memory=False.\n"
          ]
        }
      ],
      "source": [
        "property_and_user_activity_df = pd.read_csv(\"/content/drive/MyDrive/ML4641_Team1/Datasets/kaggle-rental-properties/property_and_user_activity.csv\")"
      ]
    },
    {
      "cell_type": "markdown",
      "metadata": {
        "id": "Kn5haSyvGlCu"
      },
      "source": [
        "**VISUALIZE DATA**"
      ]
    },
    {
      "cell_type": "code",
      "execution_count": null,
      "metadata": {
        "colab": {
          "base_uri": "https://localhost:8080/",
          "height": 607
        },
        "id": "4utITrJaGlCu",
        "outputId": "c94653d8-1ac2-4288-ba4b-3f9c48a1455f"
      },
      "outputs": [
        {
          "data": {
            "image/png": "[encoded data removed]",
            "text/plain": [
              "<Figure size 1200x600 with 2 Axes>"
            ]
          },
          "metadata": {},
          "output_type": "display_data"
        }
      ],
      "source": [
        "# Visualize the data- this will be helpful in removing outliers later\n",
        "\n",
        "plt.figure(figsize=(12, 6))\n",
        "\n",
        "# First Boxplot\n",
        "plt.subplot(1, 2, 1)  # 1 row, 2 columns, first subplot\n",
        "sns.boxplot(property_and_user_activity_df['deposit'])\n",
        "plt.title('deposit boxplot')\n",
        "\n",
        "# Second Boxplot\n",
        "plt.subplot(1, 2, 2)  # 1 row, 2 columns, second subplot\n",
        "sns.boxplot(property_and_user_activity_df['monthly_rent'])\n",
        "plt.title('monthly_rent boxplot')\n",
        "\n",
        "plt.tight_layout()  # Adjust layout to not overlap\n",
        "plt.show()\n"
      ]
    },
    {
      "cell_type": "markdown",
      "metadata": {
        "id": "TM75nvYnGlCu"
      },
      "source": [
        "**CLEAN AND RUN**"
      ]
    },
    {
      "cell_type": "code",
      "execution_count": null,
      "metadata": {
        "colab": {
          "base_uri": "https://localhost:8080/"
        },
        "id": "OjfB0Z7MGlCv",
        "outputId": "bb791b7b-674b-4e8a-8223-df339f3e5758"
      },
      "outputs": [
        {
          "output_type": "stream",
          "name": "stdout",
          "text": [
            "-----STARTING-----\n",
            "\n",
            "{'loss': 0.0, 'accuracy': 0.9935582280158997}\n",
            "\n",
            "-----FINISHED-----\n"
          ]
        }
      ],
      "source": [
        "print(\"-----STARTING-----\\n\")\n",
        "\n",
        "######################################\n",
        "########### Clean the data ###########\n",
        "######################################\n",
        "\n",
        "# Convert text to numbers via one-hot encoding. Then we can handle missing data\n",
        "encoder = OneHotEncoder()\n",
        "\n",
        "# Encode event_type to 1 if it gives reasonable indication that the user would like to rent the house.\n",
        "property_and_user_activity_df['event_type_num'] = property_and_user_activity_df['event_type'].map(lambda x: 1 if x in ['deal-success', 'meeting-success', 'visit-success', 'visit-new'] else 0)\n",
        "\n",
        "# Encode categorical variables\n",
        "\n",
        "property_and_user_activity_df['has_elevator'] = property_and_user_activity_df['has_elevator'].astype('category')\n",
        "property_and_user_activity_df['elevator'] = property_and_user_activity_df['has_elevator'].cat.codes\n",
        "\n",
        "property_and_user_activity_df['has_storage_area'] = property_and_user_activity_df['has_storage_area'].astype('category')\n",
        "property_and_user_activity_df['storage'] = property_and_user_activity_df['has_storage_area'].cat.codes\n",
        "\n",
        "\n",
        "property_and_user_activity_encoded = pd.DataFrame(encoder.fit_transform(\n",
        "    property_and_user_activity_df[['event_type_num']]).toarray())\n",
        "\n",
        "property_and_user_activity_encoded = property_and_user_activity_df.join(property_and_user_activity_encoded)\n",
        "\n",
        "# Fill all missing values with the mode of their respective column\n",
        "property_and_user_activity_encoded = property_and_user_activity_df.fillna(property_and_user_activity_df.mode().iloc[0])\n",
        "\n",
        "##### DO WE STILL WANT TO DROP ROWS WHERE RENT IS ZERO? #####\n",
        "\n",
        "property_and_user_activity_encoded.to_csv(\"/content/drive/MyDrive/ML4641_Team1/Datasets/kaggle-rental-properties/property_and_user_activity_encoded.csv\")\n",
        "\n",
        "############################################################################\n",
        "########### Now the data is cleaned, and we can train our model. ###########\n",
        "############################################################################\n",
        "\n",
        "# Split the data (80% for training, 20% for testing)\n",
        "features = [\"room_qty\", \"unit_area\", \"elevator\", \"building_floor_count\", \"storage\"]\n",
        "target = \"event_type_num\"\n",
        "train_set, test_set = split_dataset(property_and_user_activity_encoded, 0.8)\n",
        "\n",
        "# Only keep the features we want to study.\n",
        "train_set_with_kept_features = train_set[features + [target]]\n",
        "test_set_with_kept_features = test_set[features + [target]]\n",
        "\n",
        "# Convert to TensorFlow datasets\n",
        "train_tf_set = tfdf.keras.pd_dataframe_to_tf_dataset(train_set_with_kept_features, label=target)\n",
        "test_tf_set = tfdf.keras.pd_dataframe_to_tf_dataset(test_set_with_kept_features, label=target)\n",
        "\n",
        "# Train the model\n",
        "dt_model = tfdf.keras.RandomForestModel(verbose=0, random_seed=1234)\n",
        "dt_model.fit(train_tf_set)\n",
        "\n",
        "# Evaluate accuracy\n",
        "dt_model.compile(metrics=[\"accuracy\"])\n",
        "print(dt_model.evaluate(test_tf_set, return_dict=True, verbose=0))\n",
        "\n",
        "print(\"\\n-----FINISHED-----\")\n"
      ]
    },
    {
      "cell_type": "markdown",
      "metadata": {
        "id": "hcPShR3FP1Cy"
      },
      "source": [
        "**DISPLAY RESULTS**"
      ]
    },
    {
      "cell_type": "code",
      "execution_count": null,
      "metadata": {
        "colab": {
          "base_uri": "https://localhost:8080/"
        },
        "id": "I8FiTgKuGlCv",
        "outputId": "f3a414b6-b828-4f9c-fa3d-6e8e80e8ea25"
      },
      "outputs": [
        {
          "name": "stdout",
          "output_type": "stream",
          "text": [
            "-----STARTING-----\n",
            "\n",
            "-----FINISHED-----\n"
          ]
        }
      ],
      "source": [
        "print(\"-----STARTING-----\")\n",
        "\n",
        "# Display results\n",
        "dt_viz = dtreeviz.model(dt_model, tree_index=0,\n",
        "                           X_train=train_set[features], y_train=train_set[target],\n",
        "                           feature_names=features,\n",
        "                           target_name=target)\n",
        "\n",
        "v = dt_viz.view()\n",
        "v.show()\n",
        "v.save(\"/content/drive/MyDrive/ML4641_Team1/dt_viz.svg\")\n",
        "\n",
        "print(\"\\n-----FINISHED-----\")"
      ]
    },
    {
      "cell_type": "markdown",
      "metadata": {
        "id": "7aykwHC3z2V4"
      },
      "source": [
        "**EVALUATE ACCURACY IN DETAIL**"
      ]
    },
    {
      "cell_type": "code",
      "execution_count": null,
      "metadata": {
        "colab": {
          "base_uri": "https://localhost:8080/"
        },
        "id": "yZcsv48lz1FK",
        "outputId": "115864b7-98aa-4d09-c98f-5d19d11e962e"
      },
      "outputs": [
        {
          "output_type": "stream",
          "name": "stdout",
          "text": [
            "-----STARTING-----\n",
            "65/65 [==============================] - 3s 36ms/step\n",
            "Accuracy: 0.9935582280158997\n",
            "Precision: 0.9807222323818915\n",
            "Recall: 0.990314208916489\n",
            "F1 Score: 0.9854948811482269\n",
            "\n",
            "-----FINISHED-----\n"
          ]
        },
        {
          "output_type": "stream",
          "name": "stderr",
          "text": [
            "/usr/local/lib/python3.10/dist-packages/sklearn/metrics/_classification.py:1344: UndefinedMetricWarning: Precision is ill-defined and being set to 0.0 in labels with no predicted samples. Use `zero_division` parameter to control this behavior.\n"
          ]
        }
      ],
      "source": [
        "print(\"-----STARTING-----\")\n",
        "# from Arian's version of this notebook\n",
        "# Evaluate accuracy\n",
        "dt_model.compile(metrics=['accuracy'])\n",
        "results = dt_model.evaluate(test_tf_set, return_dict=True, verbose=0)\n",
        "predictions = dt_model.predict(test_tf_set)\n",
        "ground_truths = test_set_with_kept_features[target].values\n",
        "\n",
        "# Get predicted values of y, and evaluate them.\n",
        "y_pred = np.argmax(predictions, axis = 1)\n",
        "precision = precision_score(ground_truths, y_pred, average='weighted')\n",
        "recall = recall_score(ground_truths, y_pred, average='weighted')\n",
        "f1 = f1_score(ground_truths, y_pred, average='weighted')\n",
        "\n",
        "print(\"Accuracy:\", results['accuracy'])\n",
        "print(\"Precision:\", precision)\n",
        "print(\"Recall:\", recall)\n",
        "print(\"F1 Score:\", f1)\n",
        "\n",
        "print(\"\\n-----FINISHED-----\")"
      ]
    }
  ],
  "metadata": {
    "colab": {
      "provenance": []
    },
    "kernelspec": {
      "display_name": "Python 3",
      "language": "python",
      "name": "python3"
    },
    "language_info": {
      "codemirror_mode": {
        "name": "ipython",
        "version": 3
      },
      "file_extension": ".py",
      "mimetype": "text/x-python",
      "name": "python",
      "nbconvert_exporter": "python",
      "pygments_lexer": "ipython3",
      "version": "3.9.5"
    }
  },
  "nbformat": 4,
  "nbformat_minor": 0
}